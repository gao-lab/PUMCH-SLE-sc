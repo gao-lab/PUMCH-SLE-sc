{
 "cells": [
  {
   "cell_type": "code",
   "execution_count": 1,
   "id": "c23db0dd-320e-4080-bb27-ddbab206868d",
   "metadata": {
    "vscode": {
     "languageId": "r"
    }
   },
   "outputs": [],
   "source": [
    "suppressMessages(library(scRepertoire))\n",
    "suppressMessages(library(Seurat))\n",
    "suppressMessages(library(tidyverse))\n",
    "suppressMessages(library(ggpubr))"
   ]
  },
  {
   "cell_type": "code",
   "execution_count": 2,
   "id": "6f75e52c-968a-490e-9da8-10a245f17261",
   "metadata": {
    "vscode": {
     "languageId": "r"
    }
   },
   "outputs": [],
   "source": [
    "setwd('/rd2/user/xiacr/sle/')\n",
    "# output_path <- './output_file/seurat"
   ]
  },
  {
   "cell_type": "code",
   "execution_count": 3,
   "id": "bbc897c0-fe99-4694-ae70-d44c8f635aca",
   "metadata": {
    "vscode": {
     "languageId": "r"
    }
   },
   "outputs": [
    {
     "data": {
      "text/html": [
       "<style>\n",
       ".list-inline {list-style: none; margin:0; padding: 0}\n",
       ".list-inline>li {display: inline-block}\n",
       ".list-inline>li:not(:last-child)::after {content: \"\\00b7\"; padding: 0 .5ex}\n",
       "</style>\n",
       "<ol class=list-inline><li>'bcell_filter'</li><li>'combined_bcr'</li></ol>\n"
      ],
      "text/latex": [
       "\\begin{enumerate*}\n",
       "\\item 'bcell\\_filter'\n",
       "\\item 'combined\\_bcr'\n",
       "\\end{enumerate*}\n"
      ],
      "text/markdown": [
       "1. 'bcell_filter'\n",
       "2. 'combined_bcr'\n",
       "\n",
       "\n"
      ],
      "text/plain": [
       "[1] \"bcell_filter\" \"combined_bcr\""
      ]
     },
     "metadata": {},
     "output_type": "display_data"
    }
   ],
   "source": [
    "load('./final/seurat/b_cell/03-b_cell_anno_filter_harm.rdata')\n",
    "load('./final/scRepertoire/BCR/combined_bcr.rdata')\n",
    "ls()"
   ]
  },
  {
   "cell_type": "code",
   "execution_count": null,
   "id": "0d7868f7",
   "metadata": {
    "vscode": {
     "languageId": "r"
    }
   },
   "outputs": [],
   "source": [
    "# SAMPLE + GROUP + BARCODE\n",
    "Cells(bcell_filter) %>% head()\n",
    "scRepertoire_barcode <- bcell_filter@meta.data %>% rownames_to_column('barcode') %>% \n",
    "    mutate(new_barcode = str_split_fixed(barcode ,'_',2)[,1]) %>% \n",
    "    mutate(scRepertoire=paste0(orig.ident,'_',group,'_',new_barcode) ) %>% select(scRepertoire) \n",
    "\n",
    "bcell_filter <- RenameCells(bcell_filter, new.names = scRepertoire_barcode$scRepertoire)"
   ]
  }
 ],
 "metadata": {
  "kernelspec": {
   "display_name": "R41 4.0.3",
   "language": "R",
   "name": "ir403"
  },
  "language_info": {
   "codemirror_mode": "r",
   "file_extension": ".r",
   "mimetype": "text/x-r-source",
   "name": "R",
   "pygments_lexer": "r",
   "version": "4.0.3"
  }
 },
 "nbformat": 4,
 "nbformat_minor": 5
}
