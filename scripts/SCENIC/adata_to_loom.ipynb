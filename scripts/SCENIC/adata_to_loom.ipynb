{
 "cells": [
  {
   "cell_type": "code",
   "execution_count": 2,
   "id": "cd8258d1-d331-449b-bc93-a4c90dfa3eeb",
   "metadata": {},
   "outputs": [],
   "source": [
    "import scanpy as sc\n",
    "import os"
   ]
  },
  {
   "cell_type": "code",
   "execution_count": 15,
   "id": "913530c6-4436-43d4-8920-7d44f9662e16",
   "metadata": {},
   "outputs": [],
   "source": [
    "os.chdir('/rd2/user/xiacr/sle/')"
   ]
  },
  {
   "cell_type": "code",
   "execution_count": 16,
   "id": "6f7f2cc0-70f7-4a00-a4ca-fb463ce9720f",
   "metadata": {},
   "outputs": [],
   "source": [
    "adata = sc.read_h5ad('./output_file/seurat/mono_dc/mono_dc_filter_harmony_sceasy.h5ad')"
   ]
  },
  {
   "cell_type": "code",
   "execution_count": 18,
   "id": "bc6f35c7-2612-4a60-ac3f-61f16fc1750b",
   "metadata": {},
   "outputs": [
    {
     "name": "stderr",
     "output_type": "stream",
     "text": [
      "The loom file will lack these fields:\n",
      "{'X_pca', 'X_harmony', 'X_umap'}\n",
      "Use write_obsm_varm=True to export multi-dimensional annotations\n"
     ]
    }
   ],
   "source": [
    "adata.write_loom('./output_file/seurat/mono_dc/mono_dc_filter_harmony_sceasy_scanpy.loom')"
   ]
  },
  {
   "cell_type": "code",
   "execution_count": 19,
   "id": "a8fa0da3-3a12-42ae-92c5-dda61a92d0d7",
   "metadata": {},
   "outputs": [
    {
     "name": "stderr",
     "output_type": "stream",
     "text": [
      "/home/xiacr/miniconda3/envs/pyscenic/lib/python3.7/site-packages/anndata/_core/anndata.py:120: ImplicitModificationWarning: Transforming to str index.\n",
      "  warnings.warn(\"Transforming to str index.\", ImplicitModificationWarning)\n"
     ]
    }
   ],
   "source": [
    "loom = sc.read_loom('./output_file/seurat/mono_dc/mono_dc_filter_harmony_sceasy_scanpy.loom')\n",
    "loom.X[1:5,1:5].todense()"
   ]
  },
  {
   "cell_type": "code",
   "execution_count": 3,
   "id": "af562778-f663-4e18-8ece-2473c710ac2d",
   "metadata": {},
   "outputs": [
    {
     "name": "stderr",
     "output_type": "stream",
     "text": [
      "/home/xiacr/miniconda3/envs/scenic_protocol/lib/python3.6/site-packages/anndata/_core/anndata.py:120: ImplicitModificationWarning: Transforming to str index.\n",
      "  warnings.warn(\"Transforming to str index.\", ImplicitModificationWarning)\n"
     ]
    }
   ],
   "source": [
    "loom = sc.read_loom('./bcell/input.loom')"
   ]
  },
  {
   "cell_type": "code",
   "execution_count": 4,
   "id": "f90d3bab-c04f-45cb-b8c2-0238fde218ef",
   "metadata": {},
   "outputs": [
    {
     "data": {
      "text/plain": [
       "AnnData object with n_obs × n_vars = 22883 × 23322\n",
       "    obs: 'G2M.Score', 'Phase', 'RNA_snn_res.0.6', 'RNA_snn_res.0.8', 'RNA_snn_res.1', 'RNA_snn_res.1.2', 'S.Score', 'group', 'main_type', 'nCount_RNA', 'nFeature_RNA', 'obs_names', 'old.ident', 'orig.ident', 'pair', 'percent_mito', 'percent_ribo', 'seurat_clusters', 'subtype', 'treatment'\n",
       "    var: 'var_names', 'vst.mean', 'vst.variable', 'vst.variance', 'vst.variance.expected', 'vst.variance.standardized'"
      ]
     },
     "execution_count": 4,
     "metadata": {},
     "output_type": "execute_result"
    }
   ],
   "source": [
    "loom"
   ]
  },
  {
   "cell_type": "markdown",
   "id": "f0f5ae59-efda-45fd-9d14-6c34073b6dd0",
   "metadata": {},
   "source": [
    "## loompy"
   ]
  },
  {
   "cell_type": "code",
   "execution_count": 24,
   "id": "c8ab6ed2-d832-40cb-87d5-7522739c0db5",
   "metadata": {},
   "outputs": [],
   "source": [
    "import loompy as lp\n",
    "import numpy as np"
   ]
  },
  {
   "cell_type": "code",
   "execution_count": 39,
   "id": "3cb9f43f-6e0b-4c81-89d1-f7a3b5c09ca9",
   "metadata": {},
   "outputs": [],
   "source": [
    "f_loom_path_scenic=\"/rd2/user/xiacr/sle/output_file/seurat/mono_dc/mono_dc_filter_harmony_sceasy_scanpy.loom\"\n",
    "# create basic row and column attributes for the loom file:\n",
    "row_attrs = {\n",
    "    \"Gene\": np.array(loom.var_names) ,\n",
    "}\n",
    "col_attrs = {\n",
    "    \"CellID\": np.array(loom.obs_names) ,\n",
    "    \"nGene\": np.array( np.sum(loom.X.transpose()>0 , axis=0)).flatten() ,\n",
    "    \"nUMI\": np.array( np.sum(loom.X.transpose() , axis=0)).flatten() ,\n",
    "    'subtype': np.array(loom.obs['subtype'])\n",
    "}\n",
    "lp.create( f_loom_path_scenic, loom.X.transpose().todense(), row_attrs, col_attrs)"
   ]
  },
  {
   "cell_type": "code",
   "execution_count": 40,
   "id": "5df0b2b9-6a8a-4944-b470-b86d816e4a64",
   "metadata": {
    "tags": []
   },
   "outputs": [],
   "source": [
    "loom = sc.read_loom('./output_file/seurat/mono_dc/mono_dc_filter_harmony_sceasy_scanpy.loom')"
   ]
  },
  {
   "cell_type": "code",
   "execution_count": 43,
   "id": "89fba3ca-50de-4b87-a30c-5e9e6d684cb9",
   "metadata": {},
   "outputs": [
    {
     "data": {
      "text/plain": [
       "matrix([[0., 0., 0., ..., 0., 0., 0.],\n",
       "        [0., 0., 0., ..., 0., 0., 0.],\n",
       "        [0., 0., 0., ..., 0., 0., 0.],\n",
       "        ...,\n",
       "        [0., 0., 0., ..., 0., 0., 0.],\n",
       "        [0., 0., 0., ..., 0., 0., 0.],\n",
       "        [0., 0., 0., ..., 0., 0., 0.]], dtype=float32)"
      ]
     },
     "execution_count": 43,
     "metadata": {},
     "output_type": "execute_result"
    }
   ],
   "source": [
    "adata.X.transpose().todense()"
   ]
  },
  {
   "cell_type": "code",
   "execution_count": 42,
   "id": "1dcb4672-2de2-4bfe-99f2-2fecab24cf76",
   "metadata": {},
   "outputs": [
    {
     "data": {
      "text/plain": [
       "<32317x23445 sparse matrix of type '<class 'numpy.float32'>'\n",
       "\twith 53311457 stored elements in Compressed Sparse Column format>"
      ]
     },
     "execution_count": 42,
     "metadata": {},
     "output_type": "execute_result"
    }
   ],
   "source": [
    "adata.X"
   ]
  }
 ],
 "metadata": {
  "kernelspec": {
   "display_name": "scenic_protocol",
   "language": "python",
   "name": "scenic_protocol"
  },
  "language_info": {
   "codemirror_mode": {
    "name": "ipython",
    "version": 3
   },
   "file_extension": ".py",
   "mimetype": "text/x-python",
   "name": "python",
   "nbconvert_exporter": "python",
   "pygments_lexer": "ipython3",
   "version": "3.6.13 |Anaconda, Inc.| (default, Jun  4 2021, 14:25:59) \n[GCC 7.5.0]"
  }
 },
 "nbformat": 4,
 "nbformat_minor": 5
}
